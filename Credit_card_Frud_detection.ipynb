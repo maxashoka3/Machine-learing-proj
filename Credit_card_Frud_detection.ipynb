{
  "nbformat": 4,
  "nbformat_minor": 0,
  "metadata": {
    "colab": {
      "name": "Credit card Frud detection.ipynb",
      "provenance": [],
      "mount_file_id": "1o1B2IiYJM52TJgLjeL9euwnUmTkAEO7D",
      "authorship_tag": "ABX9TyPphbd9xArlsvpnf8oSekVN",
      "include_colab_link": true
    },
    "kernelspec": {
      "name": "python3",
      "display_name": "Python 3"
    },
    "language_info": {
      "name": "python"
    }
  },
  "cells": [
    {
      "cell_type": "markdown",
      "metadata": {
        "id": "view-in-github",
        "colab_type": "text"
      },
      "source": [
        "<a href=\"https://colab.research.google.com/github/maxashoka3/Machine-learing-proj/blob/master/Credit_card_Frud_detection.ipynb\" target=\"_parent\"><img src=\"https://colab.research.google.com/assets/colab-badge.svg\" alt=\"Open In Colab\"/></a>"
      ]
    },
    {
      "cell_type": "code",
      "execution_count": 42,
      "metadata": {
        "id": "v-aeXMuCTnpf"
      },
      "outputs": [],
      "source": [
        "import pandas as pd\n",
        "import numpy as np\n",
        "import matplotlib.pyplot as plt\n",
        "\n",
        "from sklearn.model_selection import train_test_split\n",
        "from sklearn.ensemble import RandomForestClassifier\n",
        "from sklearn.ensemble import GradientBoostingClassifier\n",
        "from sklearn.model_selection import GridSearchCV\n",
        "from sklearn.metrics import roc_auc_score, confusion_matrix, accuracy_score\n",
        "\n",
        "from pylab import rcParams\n",
        "rcParams['figure.figsize'] = 8, 8"
      ]
    },
    {
      "cell_type": "code",
      "source": [
        "data = pd.read_csv('/content/drive/MyDrive/AlmaBetter/Copy of creditcard.csv')"
      ],
      "metadata": {
        "id": "aHdu6KUPUXw1"
      },
      "execution_count": 4,
      "outputs": []
    },
    {
      "cell_type": "code",
      "source": [
        "#checking the shape of our data\n",
        "data.shape"
      ],
      "metadata": {
        "colab": {
          "base_uri": "https://localhost:8080/"
        },
        "id": "KHmXhGbkVA1U",
        "outputId": "caac0dc3-9a3b-4a18-e65f-64ba6f5fd4b9"
      },
      "execution_count": 5,
      "outputs": [
        {
          "output_type": "execute_result",
          "data": {
            "text/plain": [
              "(56962, 30)"
            ]
          },
          "metadata": {},
          "execution_count": 5
        }
      ]
    },
    {
      "cell_type": "code",
      "source": [
        "# Checking the distribution of two classes in the target variable\n",
        "data.Target.value_counts()"
      ],
      "metadata": {
        "colab": {
          "base_uri": "https://localhost:8080/"
        },
        "id": "z8yEohA2VFx6",
        "outputId": "f5fb114d-ed52-4a97-848a-7057cea3adb2"
      },
      "execution_count": 6,
      "outputs": [
        {
          "output_type": "execute_result",
          "data": {
            "text/plain": [
              "0    56864\n",
              "1       98\n",
              "Name: Target, dtype: int64"
            ]
          },
          "metadata": {},
          "execution_count": 6
        }
      ]
    },
    {
      "cell_type": "markdown",
      "source": [
        "Clearly the dataset is heavily imbalance"
      ],
      "metadata": {
        "id": "iqsBrtW4VR4d"
      }
    },
    {
      "cell_type": "code",
      "source": [
        "data.tail().T"
      ],
      "metadata": {
        "colab": {
          "base_uri": "https://localhost:8080/",
          "height": 990
        },
        "id": "xhEnnEBHVPrP",
        "outputId": "834e8e9a-1120-4b29-a355-7d2e1038544e"
      },
      "execution_count": 8,
      "outputs": [
        {
          "output_type": "execute_result",
          "data": {
            "text/html": [
              "\n",
              "  <div id=\"df-0e4e8cf4-a329-4e81-a577-8202b59253cb\">\n",
              "    <div class=\"colab-df-container\">\n",
              "      <div>\n",
              "<style scoped>\n",
              "    .dataframe tbody tr th:only-of-type {\n",
              "        vertical-align: middle;\n",
              "    }\n",
              "\n",
              "    .dataframe tbody tr th {\n",
              "        vertical-align: top;\n",
              "    }\n",
              "\n",
              "    .dataframe thead th {\n",
              "        text-align: right;\n",
              "    }\n",
              "</style>\n",
              "<table border=\"1\" class=\"dataframe\">\n",
              "  <thead>\n",
              "    <tr style=\"text-align: right;\">\n",
              "      <th></th>\n",
              "      <th>56957</th>\n",
              "      <th>56958</th>\n",
              "      <th>56959</th>\n",
              "      <th>56960</th>\n",
              "      <th>56961</th>\n",
              "    </tr>\n",
              "  </thead>\n",
              "  <tbody>\n",
              "    <tr>\n",
              "      <th>V1</th>\n",
              "      <td>2.030797</td>\n",
              "      <td>-0.263947</td>\n",
              "      <td>2.206867</td>\n",
              "      <td>1.430579</td>\n",
              "      <td>-7.792712</td>\n",
              "    </tr>\n",
              "    <tr>\n",
              "      <th>V2</th>\n",
              "      <td>-0.825073</td>\n",
              "      <td>1.119700</td>\n",
              "      <td>-0.748559</td>\n",
              "      <td>-0.842354</td>\n",
              "      <td>5.599937</td>\n",
              "    </tr>\n",
              "    <tr>\n",
              "      <th>V3</th>\n",
              "      <td>-0.729555</td>\n",
              "      <td>-0.639394</td>\n",
              "      <td>-1.443015</td>\n",
              "      <td>0.415998</td>\n",
              "      <td>0.258943</td>\n",
              "    </tr>\n",
              "    <tr>\n",
              "      <th>V4</th>\n",
              "      <td>-0.519187</td>\n",
              "      <td>-0.880567</td>\n",
              "      <td>-1.101542</td>\n",
              "      <td>-1.328439</td>\n",
              "      <td>0.061360</td>\n",
              "    </tr>\n",
              "    <tr>\n",
              "      <th>V5</th>\n",
              "      <td>-0.639893</td>\n",
              "      <td>1.194120</td>\n",
              "      <td>-0.332197</td>\n",
              "      <td>-1.284654</td>\n",
              "      <td>-2.586555</td>\n",
              "    </tr>\n",
              "    <tr>\n",
              "      <th>V6</th>\n",
              "      <td>-0.169482</td>\n",
              "      <td>-0.310693</td>\n",
              "      <td>-0.646931</td>\n",
              "      <td>-0.888110</td>\n",
              "      <td>4.770837</td>\n",
              "    </tr>\n",
              "    <tr>\n",
              "      <th>V7</th>\n",
              "      <td>-0.619049</td>\n",
              "      <td>0.962087</td>\n",
              "      <td>-0.536272</td>\n",
              "      <td>-0.653237</td>\n",
              "      <td>-8.221863</td>\n",
              "    </tr>\n",
              "    <tr>\n",
              "      <th>V8</th>\n",
              "      <td>-0.017902</td>\n",
              "      <td>-0.088880</td>\n",
              "      <td>-0.129437</td>\n",
              "      <td>-0.238164</td>\n",
              "      <td>-20.298380</td>\n",
              "    </tr>\n",
              "    <tr>\n",
              "      <th>V9</th>\n",
              "      <td>-0.578643</td>\n",
              "      <td>0.386664</td>\n",
              "      <td>-0.712381</td>\n",
              "      <td>-2.220845</td>\n",
              "      <td>2.028566</td>\n",
              "    </tr>\n",
              "    <tr>\n",
              "      <th>V10</th>\n",
              "      <td>0.915645</td>\n",
              "      <td>0.195362</td>\n",
              "      <td>1.057616</td>\n",
              "      <td>1.350845</td>\n",
              "      <td>-0.030694</td>\n",
              "    </tr>\n",
              "    <tr>\n",
              "      <th>V11</th>\n",
              "      <td>0.828552</td>\n",
              "      <td>0.608261</td>\n",
              "      <td>1.024802</td>\n",
              "      <td>0.323684</td>\n",
              "      <td>-1.062381</td>\n",
              "    </tr>\n",
              "    <tr>\n",
              "      <th>V12</th>\n",
              "      <td>1.230167</td>\n",
              "      <td>-0.094271</td>\n",
              "      <td>-0.275145</td>\n",
              "      <td>-0.140512</td>\n",
              "      <td>2.770191</td>\n",
              "    </tr>\n",
              "    <tr>\n",
              "      <th>V13</th>\n",
              "      <td>0.931780</td>\n",
              "      <td>-0.875176</td>\n",
              "      <td>-0.495076</td>\n",
              "      <td>1.219719</td>\n",
              "      <td>-0.732390</td>\n",
              "    </tr>\n",
              "    <tr>\n",
              "      <th>V14</th>\n",
              "      <td>-0.034924</td>\n",
              "      <td>-1.027551</td>\n",
              "      <td>0.338903</td>\n",
              "      <td>-0.251542</td>\n",
              "      <td>0.095124</td>\n",
              "    </tr>\n",
              "    <tr>\n",
              "      <th>V15</th>\n",
              "      <td>-0.818625</td>\n",
              "      <td>-0.748960</td>\n",
              "      <td>-0.218791</td>\n",
              "      <td>0.633039</td>\n",
              "      <td>-2.095952</td>\n",
              "    </tr>\n",
              "    <tr>\n",
              "      <th>V16</th>\n",
              "      <td>-1.204194</td>\n",
              "      <td>0.574590</td>\n",
              "      <td>1.065449</td>\n",
              "      <td>-0.857950</td>\n",
              "      <td>-0.745987</td>\n",
              "    </tr>\n",
              "    <tr>\n",
              "      <th>V17</th>\n",
              "      <td>-0.347605</td>\n",
              "      <td>-0.117623</td>\n",
              "      <td>-0.025173</td>\n",
              "      <td>0.911287</td>\n",
              "      <td>2.542327</td>\n",
              "    </tr>\n",
              "    <tr>\n",
              "      <th>V18</th>\n",
              "      <td>0.826007</td>\n",
              "      <td>0.464547</td>\n",
              "      <td>-0.796444</td>\n",
              "      <td>-1.238865</td>\n",
              "      <td>-0.767729</td>\n",
              "    </tr>\n",
              "    <tr>\n",
              "      <th>V19</th>\n",
              "      <td>-0.238106</td>\n",
              "      <td>0.178893</td>\n",
              "      <td>0.651121</td>\n",
              "      <td>-0.468457</td>\n",
              "      <td>-0.442040</td>\n",
              "    </tr>\n",
              "    <tr>\n",
              "      <th>V20</th>\n",
              "      <td>-0.458358</td>\n",
              "      <td>0.294948</td>\n",
              "      <td>-0.065957</td>\n",
              "      <td>-0.289844</td>\n",
              "      <td>-2.136013</td>\n",
              "    </tr>\n",
              "    <tr>\n",
              "      <th>V21</th>\n",
              "      <td>-0.790167</td>\n",
              "      <td>-0.448081</td>\n",
              "      <td>0.471336</td>\n",
              "      <td>-0.577415</td>\n",
              "      <td>12.641459</td>\n",
              "    </tr>\n",
              "    <tr>\n",
              "      <th>V22</th>\n",
              "      <td>-1.825357</td>\n",
              "      <td>-0.893010</td>\n",
              "      <td>1.314052</td>\n",
              "      <td>-1.323989</td>\n",
              "      <td>-4.187308</td>\n",
              "    </tr>\n",
              "    <tr>\n",
              "      <th>V23</th>\n",
              "      <td>0.600083</td>\n",
              "      <td>0.004678</td>\n",
              "      <td>0.038930</td>\n",
              "      <td>0.336843</td>\n",
              "      <td>2.655058</td>\n",
              "    </tr>\n",
              "    <tr>\n",
              "      <th>V24</th>\n",
              "      <td>0.702623</td>\n",
              "      <td>0.062555</td>\n",
              "      <td>0.747315</td>\n",
              "      <td>0.329714</td>\n",
              "      <td>0.350225</td>\n",
              "    </tr>\n",
              "    <tr>\n",
              "      <th>V25</th>\n",
              "      <td>-0.782688</td>\n",
              "      <td>-0.347536</td>\n",
              "      <td>0.158017</td>\n",
              "      <td>-0.007425</td>\n",
              "      <td>0.462620</td>\n",
              "    </tr>\n",
              "    <tr>\n",
              "      <th>V26</th>\n",
              "      <td>-0.007105</td>\n",
              "      <td>0.106510</td>\n",
              "      <td>0.021897</td>\n",
              "      <td>-0.636401</td>\n",
              "      <td>0.455248</td>\n",
              "    </tr>\n",
              "    <tr>\n",
              "      <th>V27</th>\n",
              "      <td>-0.041057</td>\n",
              "      <td>0.274117</td>\n",
              "      <td>-0.046200</td>\n",
              "      <td>0.037095</td>\n",
              "      <td>0.166157</td>\n",
              "    </tr>\n",
              "    <tr>\n",
              "      <th>V28</th>\n",
              "      <td>-0.038601</td>\n",
              "      <td>-0.036263</td>\n",
              "      <td>-0.072586</td>\n",
              "      <td>0.029180</td>\n",
              "      <td>0.099680</td>\n",
              "    </tr>\n",
              "    <tr>\n",
              "      <th>V29</th>\n",
              "      <td>42.420000</td>\n",
              "      <td>7.990000</td>\n",
              "      <td>1.000000</td>\n",
              "      <td>30.000000</td>\n",
              "      <td>8.390000</td>\n",
              "    </tr>\n",
              "    <tr>\n",
              "      <th>Target</th>\n",
              "      <td>0.000000</td>\n",
              "      <td>0.000000</td>\n",
              "      <td>0.000000</td>\n",
              "      <td>0.000000</td>\n",
              "      <td>0.000000</td>\n",
              "    </tr>\n",
              "  </tbody>\n",
              "</table>\n",
              "</div>\n",
              "      <button class=\"colab-df-convert\" onclick=\"convertToInteractive('df-0e4e8cf4-a329-4e81-a577-8202b59253cb')\"\n",
              "              title=\"Convert this dataframe to an interactive table.\"\n",
              "              style=\"display:none;\">\n",
              "        \n",
              "  <svg xmlns=\"http://www.w3.org/2000/svg\" height=\"24px\"viewBox=\"0 0 24 24\"\n",
              "       width=\"24px\">\n",
              "    <path d=\"M0 0h24v24H0V0z\" fill=\"none\"/>\n",
              "    <path d=\"M18.56 5.44l.94 2.06.94-2.06 2.06-.94-2.06-.94-.94-2.06-.94 2.06-2.06.94zm-11 1L8.5 8.5l.94-2.06 2.06-.94-2.06-.94L8.5 2.5l-.94 2.06-2.06.94zm10 10l.94 2.06.94-2.06 2.06-.94-2.06-.94-.94-2.06-.94 2.06-2.06.94z\"/><path d=\"M17.41 7.96l-1.37-1.37c-.4-.4-.92-.59-1.43-.59-.52 0-1.04.2-1.43.59L10.3 9.45l-7.72 7.72c-.78.78-.78 2.05 0 2.83L4 21.41c.39.39.9.59 1.41.59.51 0 1.02-.2 1.41-.59l7.78-7.78 2.81-2.81c.8-.78.8-2.07 0-2.86zM5.41 20L4 18.59l7.72-7.72 1.47 1.35L5.41 20z\"/>\n",
              "  </svg>\n",
              "      </button>\n",
              "      \n",
              "  <style>\n",
              "    .colab-df-container {\n",
              "      display:flex;\n",
              "      flex-wrap:wrap;\n",
              "      gap: 12px;\n",
              "    }\n",
              "\n",
              "    .colab-df-convert {\n",
              "      background-color: #E8F0FE;\n",
              "      border: none;\n",
              "      border-radius: 50%;\n",
              "      cursor: pointer;\n",
              "      display: none;\n",
              "      fill: #1967D2;\n",
              "      height: 32px;\n",
              "      padding: 0 0 0 0;\n",
              "      width: 32px;\n",
              "    }\n",
              "\n",
              "    .colab-df-convert:hover {\n",
              "      background-color: #E2EBFA;\n",
              "      box-shadow: 0px 1px 2px rgba(60, 64, 67, 0.3), 0px 1px 3px 1px rgba(60, 64, 67, 0.15);\n",
              "      fill: #174EA6;\n",
              "    }\n",
              "\n",
              "    [theme=dark] .colab-df-convert {\n",
              "      background-color: #3B4455;\n",
              "      fill: #D2E3FC;\n",
              "    }\n",
              "\n",
              "    [theme=dark] .colab-df-convert:hover {\n",
              "      background-color: #434B5C;\n",
              "      box-shadow: 0px 1px 3px 1px rgba(0, 0, 0, 0.15);\n",
              "      filter: drop-shadow(0px 1px 2px rgba(0, 0, 0, 0.3));\n",
              "      fill: #FFFFFF;\n",
              "    }\n",
              "  </style>\n",
              "\n",
              "      <script>\n",
              "        const buttonEl =\n",
              "          document.querySelector('#df-0e4e8cf4-a329-4e81-a577-8202b59253cb button.colab-df-convert');\n",
              "        buttonEl.style.display =\n",
              "          google.colab.kernel.accessAllowed ? 'block' : 'none';\n",
              "\n",
              "        async function convertToInteractive(key) {\n",
              "          const element = document.querySelector('#df-0e4e8cf4-a329-4e81-a577-8202b59253cb');\n",
              "          const dataTable =\n",
              "            await google.colab.kernel.invokeFunction('convertToInteractive',\n",
              "                                                     [key], {});\n",
              "          if (!dataTable) return;\n",
              "\n",
              "          const docLinkHtml = 'Like what you see? Visit the ' +\n",
              "            '<a target=\"_blank\" href=https://colab.research.google.com/notebooks/data_table.ipynb>data table notebook</a>'\n",
              "            + ' to learn more about interactive tables.';\n",
              "          element.innerHTML = '';\n",
              "          dataTable['output_type'] = 'display_data';\n",
              "          await google.colab.output.renderOutput(dataTable, element);\n",
              "          const docLink = document.createElement('div');\n",
              "          docLink.innerHTML = docLinkHtml;\n",
              "          element.appendChild(docLink);\n",
              "        }\n",
              "      </script>\n",
              "    </div>\n",
              "  </div>\n",
              "  "
            ],
            "text/plain": [
              "            56957     56958     56959      56960      56961\n",
              "V1       2.030797 -0.263947  2.206867   1.430579  -7.792712\n",
              "V2      -0.825073  1.119700 -0.748559  -0.842354   5.599937\n",
              "V3      -0.729555 -0.639394 -1.443015   0.415998   0.258943\n",
              "V4      -0.519187 -0.880567 -1.101542  -1.328439   0.061360\n",
              "V5      -0.639893  1.194120 -0.332197  -1.284654  -2.586555\n",
              "V6      -0.169482 -0.310693 -0.646931  -0.888110   4.770837\n",
              "V7      -0.619049  0.962087 -0.536272  -0.653237  -8.221863\n",
              "V8      -0.017902 -0.088880 -0.129437  -0.238164 -20.298380\n",
              "V9      -0.578643  0.386664 -0.712381  -2.220845   2.028566\n",
              "V10      0.915645  0.195362  1.057616   1.350845  -0.030694\n",
              "V11      0.828552  0.608261  1.024802   0.323684  -1.062381\n",
              "V12      1.230167 -0.094271 -0.275145  -0.140512   2.770191\n",
              "V13      0.931780 -0.875176 -0.495076   1.219719  -0.732390\n",
              "V14     -0.034924 -1.027551  0.338903  -0.251542   0.095124\n",
              "V15     -0.818625 -0.748960 -0.218791   0.633039  -2.095952\n",
              "V16     -1.204194  0.574590  1.065449  -0.857950  -0.745987\n",
              "V17     -0.347605 -0.117623 -0.025173   0.911287   2.542327\n",
              "V18      0.826007  0.464547 -0.796444  -1.238865  -0.767729\n",
              "V19     -0.238106  0.178893  0.651121  -0.468457  -0.442040\n",
              "V20     -0.458358  0.294948 -0.065957  -0.289844  -2.136013\n",
              "V21     -0.790167 -0.448081  0.471336  -0.577415  12.641459\n",
              "V22     -1.825357 -0.893010  1.314052  -1.323989  -4.187308\n",
              "V23      0.600083  0.004678  0.038930   0.336843   2.655058\n",
              "V24      0.702623  0.062555  0.747315   0.329714   0.350225\n",
              "V25     -0.782688 -0.347536  0.158017  -0.007425   0.462620\n",
              "V26     -0.007105  0.106510  0.021897  -0.636401   0.455248\n",
              "V27     -0.041057  0.274117 -0.046200   0.037095   0.166157\n",
              "V28     -0.038601 -0.036263 -0.072586   0.029180   0.099680\n",
              "V29     42.420000  7.990000  1.000000  30.000000   8.390000\n",
              "Target   0.000000  0.000000  0.000000   0.000000   0.000000"
            ]
          },
          "metadata": {},
          "execution_count": 8
        }
      ]
    },
    {
      "cell_type": "code",
      "source": [
        "# Creating the dataset with all independent variables\n",
        "X = data.iloc[:,:-1]\n",
        "# Creating the dataset with the dependent variable\n",
        "Y = data.iloc[:,-1]"
      ],
      "metadata": {
        "id": "x874G8kPVY72"
      },
      "execution_count": 9,
      "outputs": []
    },
    {
      "cell_type": "code",
      "source": [
        "# Split the dataset into train and test using stratified sampling on our dependent variable\n",
        "# Using a stratified sampling ensures the distribution of dependent variable remains same across train and test datasets\n",
        "\n"
      ],
      "metadata": {
        "id": "j7ZIy-h5Xb03"
      },
      "execution_count": 13,
      "outputs": []
    },
    {
      "cell_type": "code",
      "source": [
        "# Spliting the dataset into Training set and Test set\n",
        "X_train, X_test, Y_train, Y_test = train_test_split(X, Y,\n",
        "                                           test_size = 0.2, \n",
        "                                           random_state = 0,\n",
        "                                           stratify = Y)"
      ],
      "metadata": {
        "id": "31ylJrKfWI3v"
      },
      "execution_count": 12,
      "outputs": []
    },
    {
      "cell_type": "code",
      "source": [
        "print(\"The shape of train dataset :\")\n",
        "print(X_train.shape)\n",
        "\n",
        "print(\"\\n The shape of test dataset :\")\n",
        "print(X_test.shape)"
      ],
      "metadata": {
        "colab": {
          "base_uri": "https://localhost:8080/"
        },
        "id": "SxFkgagPWnKs",
        "outputId": "e0f9d7b7-6beb-456a-dd71-26489f77ee72"
      },
      "execution_count": 14,
      "outputs": [
        {
          "output_type": "stream",
          "name": "stdout",
          "text": [
            "The shape of train dataset :\n",
            "(45569, 29)\n",
            "\n",
            " The shape of test dataset :\n",
            "(11393, 29)\n"
          ]
        }
      ]
    },
    {
      "cell_type": "code",
      "source": [
        "print(\"Distribution of classes of dependent variable in train :\")\n",
        "print(Y_train.value_counts())\n",
        "\n",
        "print(\"\\n Distribution of classes of dependent variable in test :\")\n",
        "print(Y_test.value_counts())"
      ],
      "metadata": {
        "colab": {
          "base_uri": "https://localhost:8080/"
        },
        "id": "8k_yWf8dYBR-",
        "outputId": "bf765190-7da5-40c1-8765-3d9dfdb30fc2"
      },
      "execution_count": 15,
      "outputs": [
        {
          "output_type": "stream",
          "name": "stdout",
          "text": [
            "Distribution of classes of dependent variable in train :\n",
            "0    45491\n",
            "1       78\n",
            "Name: Target, dtype: int64\n",
            "\n",
            " Distribution of classes of dependent variable in test :\n",
            "0    11373\n",
            "1       20\n",
            "Name: Target, dtype: int64\n"
          ]
        }
      ]
    },
    {
      "cell_type": "code",
      "source": [
        "# hyperparameter tuning\n",
        "\n",
        "classifier = RandomForestClassifier()\n",
        "grid_values = {'n_estimators' : [50,80,100],'max_depth' : [3,5,7]}\n",
        "classifier = GridSearchCV(classifier, \n",
        "                          param_grid = grid_values,\n",
        "                          scoring = 'roc_auc',\n",
        "                          cv = 5)\n",
        "# Fit the object to train dataset\n",
        "classifier.fit(X_train, Y_train)"
      ],
      "metadata": {
        "colab": {
          "base_uri": "https://localhost:8080/"
        },
        "id": "Nd0PPvbtYE25",
        "outputId": "dbdc6745-ada2-4b1e-ae54-53425dfbd50a"
      },
      "execution_count": 16,
      "outputs": [
        {
          "output_type": "execute_result",
          "data": {
            "text/plain": [
              "GridSearchCV(cv=5, estimator=RandomForestClassifier(),\n",
              "             param_grid={'max_depth': [3, 5, 7], 'n_estimators': [50, 80, 100]},\n",
              "             scoring='roc_auc')"
            ]
          },
          "metadata": {},
          "execution_count": 16
        }
      ]
    },
    {
      "cell_type": "markdown",
      "source": [
        "Predicting on both train and test dataset using the fitted model"
      ],
      "metadata": {
        "id": "fw6AiEK7ZMJN"
      }
    },
    {
      "cell_type": "code",
      "source": [
        "train_preds = classifier.predict(X_train)\n",
        "test_preds = classifier.predict(X_test)"
      ],
      "metadata": {
        "id": "HJhk0J-RZCi-"
      },
      "execution_count": 17,
      "outputs": []
    },
    {
      "cell_type": "code",
      "source": [
        "#Obtain accuracy on train set\n",
        "accuracy_score(Y_train, train_preds)"
      ],
      "metadata": {
        "colab": {
          "base_uri": "https://localhost:8080/"
        },
        "id": "fzjfBESwZeCx",
        "outputId": "f47aa4c6-b18b-4b41-dad2-e635bd833786"
      },
      "execution_count": 18,
      "outputs": [
        {
          "output_type": "execute_result",
          "data": {
            "text/plain": [
              "0.9996269393666747"
            ]
          },
          "metadata": {},
          "execution_count": 18
        }
      ]
    },
    {
      "cell_type": "code",
      "source": [
        "# Obtain accuracy on test set\n",
        "accuracy_score(Y_test, test_preds)"
      ],
      "metadata": {
        "colab": {
          "base_uri": "https://localhost:8080/"
        },
        "id": "UjE4X83GZkUy",
        "outputId": "1dd0b5a2-38db-4740-a531-367cac6a5e4b"
      },
      "execution_count": 19,
      "outputs": [
        {
          "output_type": "execute_result",
          "data": {
            "text/plain": [
              "0.9994733608356008"
            ]
          },
          "metadata": {},
          "execution_count": 19
        }
      ]
    },
    {
      "cell_type": "markdown",
      "source": [
        "Accuracy is not a good metric to evaluate our model since the dataset is heavily imbalanced. Thus we will use roc_auc score"
      ],
      "metadata": {
        "id": "i0xO3-GaZx13"
      }
    },
    {
      "cell_type": "code",
      "source": [
        "# Calculate roc_auc score on train set\n",
        "roc_auc_score(Y_train,train_preds)"
      ],
      "metadata": {
        "colab": {
          "base_uri": "https://localhost:8080/"
        },
        "id": "dlnbCaKgZuTv",
        "outputId": "ecb113bb-83ab-4ab4-b95b-a886a5f366a0"
      },
      "execution_count": 20,
      "outputs": [
        {
          "output_type": "execute_result",
          "data": {
            "text/plain": [
              "0.891025641025641"
            ]
          },
          "metadata": {},
          "execution_count": 20
        }
      ]
    },
    {
      "cell_type": "code",
      "source": [
        "# Calculate roc_auc score on test set\n",
        "roc_auc_score(Y_test,test_preds)"
      ],
      "metadata": {
        "colab": {
          "base_uri": "https://localhost:8080/"
        },
        "id": "sU2r7RB5aEVL",
        "outputId": "fe07bd95-f739-4c8b-b6ac-f64d48003188"
      },
      "execution_count": 21,
      "outputs": [
        {
          "output_type": "execute_result",
          "data": {
            "text/plain": [
              "0.8749560362261496"
            ]
          },
          "metadata": {},
          "execution_count": 21
        }
      ]
    },
    {
      "cell_type": "code",
      "source": [
        "# Obtain the confusion matrix on train set\n",
        "confusion_matrix(Y_train,train_preds)"
      ],
      "metadata": {
        "colab": {
          "base_uri": "https://localhost:8080/"
        },
        "id": "9x_8OO9eaGZr",
        "outputId": "21b2aab2-85ed-47d4-be53-7cd2bb778530"
      },
      "execution_count": 22,
      "outputs": [
        {
          "output_type": "execute_result",
          "data": {
            "text/plain": [
              "array([[45491,     0],\n",
              "       [   17,    61]])"
            ]
          },
          "metadata": {},
          "execution_count": 22
        }
      ]
    },
    {
      "cell_type": "code",
      "source": [
        "# Obtain the confusion matrix on test set\n",
        "confusion_matrix(Y_test,test_preds)"
      ],
      "metadata": {
        "colab": {
          "base_uri": "https://localhost:8080/"
        },
        "id": "SlCaFKGmaKXv",
        "outputId": "b2f8e17f-4f0f-4964-f484-3fa4e2375a90"
      },
      "execution_count": 23,
      "outputs": [
        {
          "output_type": "execute_result",
          "data": {
            "text/plain": [
              "array([[11372,     1],\n",
              "       [    5,    15]])"
            ]
          },
          "metadata": {},
          "execution_count": 23
        }
      ]
    },
    {
      "cell_type": "code",
      "source": [
        "#Extract feature importances\n",
        "importances = classifier.best_estimator_.feature_importances_"
      ],
      "metadata": {
        "id": "M2kxmQuRbliE"
      },
      "execution_count": 32,
      "outputs": []
    },
    {
      "cell_type": "code",
      "source": [
        "importances"
      ],
      "metadata": {
        "colab": {
          "base_uri": "https://localhost:8080/"
        },
        "id": "hrYG07wqcFa1",
        "outputId": "cf3ec30f-c679-4554-a0fd-683bc8abf352"
      },
      "execution_count": 30,
      "outputs": [
        {
          "output_type": "execute_result",
          "data": {
            "text/plain": [
              "array([0.00700217, 0.01142833, 0.01202563, 0.02579885, 0.00946869,\n",
              "       0.02363684, 0.01335583, 0.01325941, 0.03893095, 0.05717411,\n",
              "       0.06720042, 0.08205019, 0.00845753, 0.16784992, 0.00608925,\n",
              "       0.07904741, 0.23646165, 0.04157378, 0.01042496, 0.01234373,\n",
              "       0.01090411, 0.00409862, 0.00792384, 0.00286451, 0.0064665 ,\n",
              "       0.01331012, 0.01828073, 0.00671641, 0.00585551])"
            ]
          },
          "metadata": {},
          "execution_count": 30
        }
      ]
    },
    {
      "cell_type": "code",
      "source": [
        "# Plot the varaible importance\n",
        "features = X_train.columns\n",
        "importances = classifier.best_estimator_.feature_importances_\n",
        "indices = np.argsort(importances)"
      ],
      "metadata": {
        "id": "KR_BHuP-aN0z"
      },
      "execution_count": 44,
      "outputs": []
    },
    {
      "cell_type": "code",
      "source": [
        "# Ploting the Feature Importance\n",
        "plt.title('Feature Importance')\n",
        "plt.barh(range(len(indices)), importances[indices], color='red', align='center')\n",
        "plt.yticks(range(len(indices)), [features[i] for i in indices])\n",
        "plt.xlabel('Relative Importance')\n",
        "\n",
        "plt.show()"
      ],
      "metadata": {
        "colab": {
          "base_uri": "https://localhost:8080/",
          "height": 513
        },
        "id": "eP6x9PQccoxe",
        "outputId": "03412a39-3d84-44f8-8b5e-d4a139352094"
      },
      "execution_count": 45,
      "outputs": [
        {
          "output_type": "display_data",
          "data": {
            "image/png": "[encoded data removed]",
            "text/plain": [
              "<Figure size 576x576 with 1 Axes>"
            ]
          },
          "metadata": {
            "needs_background": "light"
          }
        }
      ]
    },
    {
      "cell_type": "code",
      "source": [
        ""
      ],
      "metadata": {
        "id": "CRuC6qb2a97m"
      },
      "execution_count": null,
      "outputs": []
    }
  ]
}